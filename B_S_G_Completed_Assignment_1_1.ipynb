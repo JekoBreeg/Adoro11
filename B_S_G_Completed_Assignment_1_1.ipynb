{
  "nbformat": 4,
  "nbformat_minor": 0,
  "metadata": {
    "colab": {
      "provenance": [],
      "include_colab_link": true
    },
    "kernelspec": {
      "name": "python3",
      "display_name": "Python 3"
    },
    "language_info": {
      "name": "python"
    }
  },
  "cells": [
    {
      "cell_type": "markdown",
      "metadata": {
        "id": "view-in-github",
        "colab_type": "text"
      },
      "source": [
        "<a href=\"https://colab.research.google.com/github/JekoBreeg/Adoro11/blob/main/B_S_G_Completed_Assignment_1_1.ipynb\" target=\"_parent\"><img src=\"https://colab.research.google.com/assets/colab-badge.svg\" alt=\"Open In Colab\"/></a>"
      ]
    },
    {
      "cell_type": "markdown",
      "source": [
        "**Python Practice**\n",
        "\n",
        "This assignment is to get started with a practice to Python for Data Science.\n",
        "\n",
        "Choose any 6 questions out of the questions below. 6 questions will be graded and the rest can be utilized for some practice."
      ],
      "metadata": {
        "id": "O2PrhW5BvC3E"
      }
    },
    {
      "cell_type": "markdown",
      "source": [
        "Create a string variable greeting containing \"Hello, \" and another variable name containing your name. Concatenate these variables to form a greeting message and print it"
      ],
      "metadata": {
        "id": "ujhMol3ubYaw"
      }
    },
    {
      "cell_type": "code",
      "source": [
        "hi = \"Hello, my name is \"\n",
        "\n",
        "name = \"Ben\"\n",
        "\n",
        "full_greeting = hi + name\n",
        "\n",
        "del print #This is REALLY annoying right here... I should not need to put del print. This is a first for me, but it won't accept code otherwise for some reason. Just this one.\n",
        "\n",
        "print(full_greeting)"
      ],
      "metadata": {
        "id": "Ept6SexKCEwQ",
        "outputId": "03daf837-7166-469d-e9c2-cc8bd667d4a8",
        "colab": {
          "base_uri": "https://localhost:8080/"
        }
      },
      "execution_count": null,
      "outputs": [
        {
          "output_type": "stream",
          "name": "stdout",
          "text": [
            "Hello, my name is Ben\n"
          ]
        }
      ]
    },
    {
      "cell_type": "markdown",
      "source": [
        "Write a Python program which accepts a sequence of comma-separated numbers\n",
        "from the user and generate a list with those numbers. Arrange them in ascending order"
      ],
      "metadata": {
        "id": "q6Q3a2icbfJb"
      }
    },
    {
      "cell_type": "code",
      "source": [
        "input_sequence = input(\"Enter numbers seperated with a comma: \")\n",
        "\n",
        "number_list = input_sequence.split(',')\n",
        "\n",
        "number_list = [int(number.strip()) for number in number_list]\n",
        "\n",
        "number_list.sort()\n",
        "\n",
        "\n",
        "print(\"Low to High:\", number_list)"
      ],
      "metadata": {
        "id": "v2MZd11TCT1Q"
      },
      "execution_count": null,
      "outputs": []
    },
    {
      "cell_type": "markdown",
      "source": [
        "Write a Python program to display the first and last letters from the given list of names: [\"Adam\",\"Alex\",\"Emmanuel\" ,\"Robert\", \"Finn\"]."
      ],
      "metadata": {
        "id": "tD9ZO5LqcPHJ"
      }
    },
    {
      "cell_type": "code",
      "source": [
        "Names = [\"ADAM\", \"ALEX\", \"EMMANUEL\", \"ROBERT\", \"FINN\"]\n",
        "\n",
        "for name in Names:\n",
        "    first_L = name[0]\n",
        "    last_L = name[-1]\n",
        "\n",
        "\n",
        "    print(f\"Name: {name}, First Letter: {first_L}, Last Letter: {last_L}\")"
      ],
      "metadata": {
        "id": "65y1fHv0CVXu"
      },
      "execution_count": null,
      "outputs": []
    },
    {
      "cell_type": "markdown",
      "source": [
        "Take a string as an input. Write a python program to create a new string using the first, middle, and last characters of the input string."
      ],
      "metadata": {
        "id": "VyB-z66Vcxjs"
      }
    },
    {
      "cell_type": "code",
      "source": [
        "user_string = input(\"Enter a word: \")\n",
        "\n",
        "mid_index = len(user_string) // 2\n",
        "\n",
        "if len(user_string) > 0:\n",
        "    first_l = user_string[0]\n",
        "    mid_l = user_string[mid_index]\n",
        "    last_l = user_string[-1]\n",
        "\n",
        "    new_string = first_l + mid_l + last_l\n",
        "\n",
        "\n",
        "\n",
        "    print(\"Abbreviation:\", new_string)\n",
        "else:\n",
        "    print(\"FAILED!\")"
      ],
      "metadata": {
        "id": "fywPaeQ9CWoQ"
      },
      "execution_count": null,
      "outputs": []
    },
    {
      "cell_type": "markdown",
      "source": [
        "Write a python program to take a string as an input and reverse it"
      ],
      "metadata": {
        "id": "4KoZnsVnc7K7"
      }
    },
    {
      "cell_type": "code",
      "source": [
        "user_string = input(\"Type a word: \")\n",
        "\n",
        "reverse_string = user_string[::-1]\n",
        "\n",
        "\n",
        "print(\"Reversed word:\", reverse_string)"
      ],
      "metadata": {
        "id": "-C4HsLcjCXwT"
      },
      "execution_count": null,
      "outputs": []
    },
    {
      "cell_type": "markdown",
      "source": [
        "**Collections**"
      ],
      "metadata": {
        "id": "x-5HZ4ghtHf-"
      }
    },
    {
      "cell_type": "markdown",
      "source": [
        "Take an input of numbers in a list and create a new list containing only the even numbers from the original list."
      ],
      "metadata": {
        "id": "iGAnSQaMs-kU"
      }
    },
    {
      "cell_type": "code",
      "source": [
        "user_input = input(\"Enter numbers separated by commas: \")\n",
        "\n",
        "num_list = [int(number.strip()) for number in user_input.split(',')]\n",
        "\n",
        "evens = [number for number in num_list if number % 2 == 0]\n",
        "\n",
        "\n",
        "print(\"Even Numbers:\", evens)"
      ],
      "metadata": {
        "id": "du-AQi1jCema"
      },
      "execution_count": null,
      "outputs": []
    },
    {
      "cell_type": "markdown",
      "source": [
        "Take a list of strings (words) and create a new list containing the lengths of each word in the original list."
      ],
      "metadata": {
        "id": "2PHWbU8HtNO-"
      }
    },
    {
      "cell_type": "code",
      "source": [
        "#Your answer must go here"
      ],
      "metadata": {
        "id": "S_vHvvR6Cfav"
      },
      "execution_count": null,
      "outputs": []
    },
    {
      "cell_type": "markdown",
      "source": [
        "Create a dictionary student_grades with keys as student names and values as their respective grades. Find the student with the highest grade and print the output"
      ],
      "metadata": {
        "id": "8gzK9MNStgx5"
      }
    },
    {
      "cell_type": "code",
      "source": [
        "#Your answer must go here"
      ],
      "metadata": {
        "id": "dcUL0Yj3CgVQ"
      },
      "execution_count": null,
      "outputs": []
    },
    {
      "cell_type": "markdown",
      "source": [
        "Define two sets, set1 and set2, containing some common elements. Remove the duplicate elements from set1 that are also present in set2."
      ],
      "metadata": {
        "id": "E1B78qP8tupG"
      }
    },
    {
      "cell_type": "code",
      "source": [
        "#Your answer must go here"
      ],
      "metadata": {
        "id": "yyD4jH4AChIl"
      },
      "execution_count": null,
      "outputs": []
    },
    {
      "cell_type": "markdown",
      "source": [
        "Create a dictionary word_count to count the occurrences of each word in a given sentence. Print the top 3 most common words along with their counts."
      ],
      "metadata": {
        "id": "2qhPexHqt0fv"
      }
    },
    {
      "cell_type": "code",
      "source": [
        "#Your answer must go here"
      ],
      "metadata": {
        "id": "XmxnACB1CiUV"
      },
      "execution_count": null,
      "outputs": []
    }
  ]
}